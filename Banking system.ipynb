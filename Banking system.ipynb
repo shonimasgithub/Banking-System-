{
 "cells": [
  {
   "cell_type": "code",
   "execution_count": 1,
   "id": "77cc2caa",
   "metadata": {},
   "outputs": [
    {
     "name": "stdout",
     "output_type": "stream",
     "text": [
      "Login successful.\n",
      "Deposited 1000 successfully.\n",
      "Withdrew 500 successfully.\n",
      "Current Balance: 500\n"
     ]
    }
   ],
   "source": [
    "\"\"\"Write a python program to replicate a Banking system. The following features are mandatory:\n",
    "1. Account login\n",
    "2. Amount Depositing\n",
    "3. Amount Withdrawal\n",
    "Other than the above features you can add any other also\"\"\"\n",
    "\n",
    "class BankAccount:\n",
    "    def __init__(self, account_number, pin, balance=0):\n",
    "        self.account_number = account_number\n",
    "        self.pin = pin\n",
    "        self.balance = balance\n",
    "\n",
    "    def login(self, account_number, pin):\n",
    "        if self.account_number == account_number and self.pin == pin:\n",
    "            return True\n",
    "        else:\n",
    "            return False\n",
    "\n",
    "    def deposit(self, amount):\n",
    "        if amount > 0:\n",
    "            self.balance += amount\n",
    "            print(f\"Deposited {amount} successfully.\")\n",
    "        else:\n",
    "            print(\"Invalid amount for deposit.\")\n",
    "\n",
    "    def withdraw(self, amount):\n",
    "        if amount > 0 and amount <= self.balance:\n",
    "            self.balance -= amount\n",
    "            print(f\"Withdrew {amount} successfully.\")\n",
    "        else:\n",
    "            print(\"Invalid amount for withdrawal or insufficient balance.\")\n",
    "\n",
    "    def check_balance(self):\n",
    "        print(f\"Current Balance: {self.balance}\")\n",
    "\n",
    "# Sample usage\n",
    "def main():\n",
    "    # Creating a new bank account\n",
    "    account1 = BankAccount(\"123456\", \"1234\")\n",
    "\n",
    "    # Logging in\n",
    "    if account1.login(\"123456\", \"1234\"):\n",
    "        print(\"Login successful.\")\n",
    "    else:\n",
    "        print(\"Invalid credentials.\")\n",
    "\n",
    "    # Depositing\n",
    "    account1.deposit(1000)\n",
    "\n",
    "    # Withdrawing\n",
    "    account1.withdraw(500)\n",
    "\n",
    "    # Checking balance\n",
    "    account1.check_balance()\n",
    "\n",
    "if __name__ == \"__main__\":\n",
    "    main()\n"
   ]
  },
  {
   "cell_type": "code",
   "execution_count": null,
   "id": "4dce19cc",
   "metadata": {},
   "outputs": [],
   "source": []
  }
 ],
 "metadata": {
  "kernelspec": {
   "display_name": "Python 3 (ipykernel)",
   "language": "python",
   "name": "python3"
  },
  "language_info": {
   "codemirror_mode": {
    "name": "ipython",
    "version": 3
   },
   "file_extension": ".py",
   "mimetype": "text/x-python",
   "name": "python",
   "nbconvert_exporter": "python",
   "pygments_lexer": "ipython3",
   "version": "3.10.9"
  }
 },
 "nbformat": 4,
 "nbformat_minor": 5
}
